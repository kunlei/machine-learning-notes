{
 "cells": [
  {
   "cell_type": "markdown",
   "metadata": {},
   "source": [
    "---\n",
    "format:\n",
    "  html:\n",
    "    code-line-numbers: false\n",
    "    code-overflow: wrap\n",
    "    code-block-bg: true\n",
    "    code-block-border-left: true\n",
    "    highlight-style: arrow\n",
    "  pdf:\n",
    "    documentclass: scrreprt\n",
    "    links-as-notes: true\n",
    "    reference-location: section\n",
    "    toc: true\n",
    "    toc-depth: 2\n",
    "    lof: true\n",
    "    lot: true\n",
    "    number-sections: true\n",
    "    fig-width: 8\n",
    "    fig-height: 6\n",
    "\n",
    "---"
   ]
  },
  {
   "cell_type": "markdown",
   "metadata": {},
   "source": [
    "# Environment Setup"
   ]
  },
  {
   "cell_type": "markdown",
   "metadata": {},
   "source": [
    "## conda"
   ]
  },
  {
   "cell_type": "markdown",
   "metadata": {},
   "source": [
    "Install conda from here:\n",
    "\n",
    "https://conda.io/projects/conda/en/latest/user-guide/install/macos.html"
   ]
  },
  {
   "cell_type": "markdown",
   "metadata": {},
   "source": [
    "```{bash}\n",
    "\n",
    "# to list all available environments\n",
    "conda env list\n",
    "\n",
    "# to remove an environment\n",
    "conda env remove -n 'env_name'\n",
    "```"
   ]
  },
  {
   "cell_type": "markdown",
   "metadata": {},
   "source": [
    "## Machine learning packages"
   ]
  },
  {
   "cell_type": "markdown",
   "metadata": {},
   "source": [
    "First install some of the essential libraries and tools"
   ]
  },
  {
   "cell_type": "markdown",
   "metadata": {},
   "source": [
    "\n",
    "```{bash}\n",
    "conda install numpy scipy pandas matplotlib seaborn plotly ipython scikit-learn jupyterlab ipykernel pyarrow\n",
    "```"
   ]
  },
  {
   "cell_type": "markdown",
   "metadata": {},
   "source": [
    "## Add conda environment into notebook kernel"
   ]
  },
  {
   "cell_type": "markdown",
   "metadata": {},
   "source": [
    "```{bash}\n",
    "## Create the virtual environment\n",
    "conda create -n 'environment_name'\n",
    "\n",
    "## Activate the virtual environment\n",
    "conda activate 'environment_name'\n",
    "\n",
    "## Make sure that ipykernel is installed\n",
    "pip install --user ipykernel\n",
    "\n",
    "## Add the new virtual environment to Jupyter\n",
    "python -m ipykernel install --user --name='environment_name'\n",
    "\n",
    "## To list existing Jupyter virtual environments\n",
    "jupyter kernelspec list\n",
    "\n",
    "## To remove the environment from Jupyter\n",
    "jupyter kernelspec uninstall 'environment_name'\n",
    "```"
   ]
  },
  {
   "cell_type": "code",
   "execution_count": 10,
   "metadata": {},
   "outputs": [
    {
     "name": "stdout",
     "output_type": "stream",
     "text": [
      "Python version: 3.10.12 | packaged by conda-forge | (main, Jun 23 2023, 22:41:52) [Clang 15.0.7 ]\n",
      "numpy version: 1.26.2\n",
      "pandas version: 2.1.4\n",
      "matplotlib version: 3.7.2\n",
      "scipy version: 1.11.2\n",
      "IPython version: 8.15.0\n",
      "sklearn version: 1.3.2\n",
      "seaborn version: 0.13.1\n",
      "plotly version: 5.18.0\n"
     ]
    }
   ],
   "source": [
    "import sys\n",
    "import numpy as np\n",
    "import pandas as pd\n",
    "import matplotlib\n",
    "import scipy as sp\n",
    "import IPython\n",
    "import sklearn\n",
    "import seaborn as sns\n",
    "import plotly\n",
    "\n",
    "print(f'Python version: {sys.version}')\n",
    "print(f'numpy version: {np.__version__}')\n",
    "print(f'pandas version: {pd.__version__}')\n",
    "print(f'matplotlib version: {matplotlib.__version__}')\n",
    "print(f'scipy version: {sp.__version__}')\n",
    "print(f'IPython version: {IPython.__version__}')\n",
    "print(f'sklearn version: {sklearn.__version__}')\n",
    "print(f'seaborn version: {sns.__version__}')\n",
    "print(f'plotly version: {plotly.__version__}')"
   ]
  }
 ],
 "metadata": {
  "kernelspec": {
   "display_name": "mlintro",
   "language": "python",
   "name": "python3"
  },
  "language_info": {
   "codemirror_mode": {
    "name": "ipython",
    "version": 3
   },
   "file_extension": ".py",
   "mimetype": "text/x-python",
   "name": "python",
   "nbconvert_exporter": "python",
   "pygments_lexer": "ipython3",
   "version": "3.10.12"
  }
 },
 "nbformat": 4,
 "nbformat_minor": 2
}
